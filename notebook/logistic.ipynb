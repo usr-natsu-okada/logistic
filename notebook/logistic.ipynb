{
 "cells": [
  {
   "cell_type": "code",
   "execution_count": null,
   "metadata": {},
   "outputs": [],
   "source": [
    "# nt 現在の人口\n",
    "# K キャパ\n",
    "# r 成長率\n",
    "deriv_Nt(nt, K, r) = r*nt*(1-nt/K)\n",
    "\n",
    "deriv_Nt2(nt) = r*nt*(1-nt/K)\n",
    "# function deriv_Nt(nt::Float64, K::Float64, r::Float64)::Float64\n",
    "#     return r*nt*(1-nt/K)\n",
    "# end "
   ]
  },
  {
   "cell_type": "code",
   "execution_count": null,
   "metadata": {},
   "outputs": [],
   "source": [
    "# マルチプルディスパッチ\n",
    "methods(deriv_Nt)"
   ]
  },
  {
   "cell_type": "code",
   "execution_count": null,
   "metadata": {},
   "outputs": [],
   "source": [
    "# オイラー方程式での近似\n",
    "next_Nt(nt, K, r, h) = nt + h*deriv_Nt(nt, K, r)"
   ]
  },
  {
   "cell_type": "code",
   "execution_count": null,
   "metadata": {},
   "outputs": [],
   "source": [
    "# 各種パラメータを定義\n",
    "tmax = 10.0 # 終了時刻\n",
    "r = 1.0 # パラメータ1\n",
    "K = 10.0 #パラメータ2\n",
    "N0 = 1.0 # 人口の初期値\n",
    "numtimes  = 100 # 0 ≦ t < tmaxの分割数\n",
    "\n",
    "# ローカル変数にしか型は指定できない\n",
    "h = tmax/numtimes"
   ]
  },
  {
   "cell_type": "code",
   "execution_count": null,
   "metadata": {},
   "outputs": [],
   "source": [
    "deriv_Nt(0.0, K, r)\n",
    "# @code_warntype deriv_Nt2(N0)\n",
    "# @code_warntype next_Nt(N0, K, r, h)\n",
    "@show next_Nt(N0, K, r, h)\n",
    ";"
   ]
  },
  {
   "cell_type": "code",
   "execution_count": null,
   "metadata": {},
   "outputs": [],
   "source": [
    "# undef: 初期値指定しない\n",
    "results = Vector{Float64}(undef, numtimes+1) \n",
    "# results2 = zeros(Float64, numtimes+1) \n",
    "\n",
    "\n",
    "results[1] = N0\n",
    "\n",
    "\n",
    "for t in 1:numtimes\n",
    "    results[t+1] = next_Nt(results[t], K, r, h)\n",
    "end"
   ]
  },
  {
   "cell_type": "code",
   "execution_count": null,
   "metadata": {},
   "outputs": [],
   "source": [
    "results\n",
    ";"
   ]
  },
  {
   "cell_type": "code",
   "execution_count": null,
   "metadata": {},
   "outputs": [],
   "source": [
    "using Plots\n",
    "\n",
    "# = linspace, 等間隔のメッシュ\n",
    "# 最小値, 最大値, ステップ幅だけメモリに記憶している\n",
    "# 配列化するには collect(LinRange(XXXXXX))\n",
    "times = LinRange(0, tmax, numtimes+1)\n",
    "\n",
    "plot(times, results, label=\"Numerical\", xlabel=\"time\")"
   ]
  },
  {
   "cell_type": "code",
   "execution_count": null,
   "metadata": {},
   "outputs": [],
   "source": [
    "# exact_Nt(N0, K, r, time) =K/(1+(K-N0) / N0 * exp(-r*time))\n",
    "\n",
    "exact_Nt(time) =K/(1+(K-N0) / N0 * exp(-r*time))"
   ]
  },
  {
   "cell_type": "code",
   "execution_count": null,
   "metadata": {},
   "outputs": [],
   "source": [
    "exact_Nt.(times)\n",
    ";"
   ]
  },
  {
   "cell_type": "code",
   "execution_count": null,
   "metadata": {},
   "outputs": [],
   "source": [
    "err = abs.(results .- exact_Nt.(times))\n",
    "\n",
    "# p: プロットオブジェクト\n",
    "p = plot(yaxis=:log, ylims=(1e-10, 1000),  xlabel=\"time\")\n",
    "plot!(p, times, results, label=\"Numerical\")\n",
    "plot!(p, times, err, marker=:x, label=\"Error\")"
   ]
  },
  {
   "cell_type": "code",
   "execution_count": null,
   "metadata": {},
   "outputs": [],
   "source": [
    "# :x  シンボル\n",
    "# typeof(:x) 文字列\n",
    "# typeof(\"x\")\n",
    "\n",
    "# メモリとしては違う????\n",
    "# a = \"x\" \n",
    "# b = \"x\" \n",
    "a = :x\n",
    "\n",
    "objectid(a)  # ポインター"
   ]
  },
  {
   "cell_type": "code",
   "execution_count": null,
   "metadata": {},
   "outputs": [],
   "source": [
    "b = :x "
   ]
  },
  {
   "cell_type": "code",
   "execution_count": null,
   "metadata": {},
   "outputs": [],
   "source": [
    "objectid(b)"
   ]
  },
  {
   "cell_type": "code",
   "execution_count": null,
   "metadata": {},
   "outputs": [],
   "source": [
    "using DifferentialEquations\n",
    "\n",
    "# ロジスティック方程式の定義\n",
    "function logistic!(du, u, params, t)\n",
    "    r, K = params\n",
    "    du[1] = r * u[1] * (1 - u[1]/K)\n",
    "end\n",
    "\n",
    "# パラメータの設定\n",
    "params = (r, K)\n",
    "\n",
    "# 初期条件の設定\n",
    "u0 = [1.0]  # 開始時点の人口サイズ\n",
    "\n",
    "# 時間範囲の設定\n",
    "tspan = (0.0, tmax)\n",
    "\n",
    "# 問題の設定\n",
    "prob = ODEProblem(logistic!, u0, tspan, params)\n",
    "\n",
    "# 微分方程式の解 (5次のルンゲクッタ法)\n",
    "# Tsit5: ソルバー（アルゴリズム）\n",
    "sol = solve(prob, Tsit5(), abstol=1e-8, reltol=1e-8)\n",
    ";"
   ]
  },
  {
   "cell_type": "code",
   "execution_count": null,
   "metadata": {},
   "outputs": [],
   "source": [
    "results_de = [u_[1] for u_ in sol.u]\n",
    "\n",
    "p = plot(yaxis=:log, ylims=(1e-10, 1000),  xlabel=\"time\")\n",
    "plot!(p, sol.t, results_de, marker=:o)\n",
    "plot!(p, sol.t, abs.(results_de .- exact_Nt.(sol.t)), label=\"error\")"
   ]
  },
  {
   "cell_type": "code",
   "execution_count": null,
   "metadata": {},
   "outputs": [],
   "source": []
  }
 ],
 "metadata": {
  "kernelspec": {
   "display_name": "Julia 1.9.0",
   "language": "julia",
   "name": "julia-1.9"
  },
  "language_info": {
   "file_extension": ".jl",
   "mimetype": "application/julia",
   "name": "julia",
   "version": "1.9.0"
  },
  "orig_nbformat": 4
 },
 "nbformat": 4,
 "nbformat_minor": 2
}
